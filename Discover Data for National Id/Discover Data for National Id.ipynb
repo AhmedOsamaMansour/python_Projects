{
 "cells": [
  {
   "cell_type": "code",
   "execution_count": 1,
   "id": "0fd57822",
   "metadata": {},
   "outputs": [
    {
     "name": "stdout",
     "output_type": "stream",
     "text": [
      "Enter Your national id : 30107072600464\n",
      "This is Female\n",
      "governorate : Sohag\n",
      "Date Of Birth : 2001-07-07\n"
     ]
    }
   ],
   "source": [
    "egypt_governorates = {\n",
    "    '01': 'Cairo',\n",
    "    '02': 'Alexandria',\n",
    "    '03': 'Port Said',\n",
    "    '04': 'Suez',\n",
    "    '11': 'Damietta',\n",
    "    '12': 'Dakahlia',\n",
    "    '13': 'Sharqia',\n",
    "    '14': 'Qalyubia',\n",
    "    '15': 'Kafr El-Sheikh',\n",
    "    '16': 'Gharbia',\n",
    "    '17': 'Menoufia',\n",
    "    '18': 'Beheira',\n",
    "    '19': 'Ismailia',\n",
    "    '21': 'Giza',\n",
    "    '22': 'Beni Suef',\n",
    "    '23': 'Fayoum',\n",
    "    '24': 'Minya',\n",
    "    '25': 'Assiut',\n",
    "    '26': 'Sohag',\n",
    "    '27': 'Qena',\n",
    "    '28': 'Aswan',\n",
    "    '29': 'Luxor',\n",
    "    '31': 'Red Sea',\n",
    "    '32': 'New Valley',\n",
    "    '33': 'Matrouh',\n",
    "    '34': 'North Sinai',\n",
    "    '35': 'South Sinai',\n",
    "    '88': 'outside the Republic (outside country)'\n",
    "}\n",
    "while True:\n",
    "    userId = input(\"Enter Your national id : \")\n",
    "    if len(userId)==14:\n",
    "        if int(userId[9:13])%2==0:\n",
    "            print(\"This is Female\")\n",
    "        else:\n",
    "            print(\"This is Male\")\n",
    "        print(\"governorate : \" + egypt_governorates[userId[7:9]] )\n",
    "        if userId[0]=='3':\n",
    "            print(\"Date Of Birth : 20\"+userId[1:3]+\"-\"+userId[3:5]+\"-\"+userId[5:7])\n",
    "        else:\n",
    "            print(\"Date Of Birth : 19\"+userId[1:3]+\"-\"+userId[3:5]+\"-\"+userId[5:7])\n",
    "        break\n",
    "    else:\n",
    "        print(\"Enter Vaild National Id\")\n",
    "# test Id's :  30012252600488 / 30011142602063 / 30107072600464 / 28701010101216"
   ]
  }
 ],
 "metadata": {
  "kernelspec": {
   "display_name": "Python 3 (ipykernel)",
   "language": "python",
   "name": "python3"
  },
  "language_info": {
   "codemirror_mode": {
    "name": "ipython",
    "version": 3
   },
   "file_extension": ".py",
   "mimetype": "text/x-python",
   "name": "python",
   "nbconvert_exporter": "python",
   "pygments_lexer": "ipython3",
   "version": "3.11.4"
  }
 },
 "nbformat": 4,
 "nbformat_minor": 5
}
