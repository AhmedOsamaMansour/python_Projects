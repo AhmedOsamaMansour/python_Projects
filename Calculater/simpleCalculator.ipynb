{
 "cells": [
  {
   "cell_type": "code",
   "execution_count": 1,
   "id": "1c7f9840",
   "metadata": {},
   "outputs": [],
   "source": [
    "import ipywidgets as widgets\n",
    "import time"
   ]
  },
  {
   "cell_type": "code",
   "execution_count": 2,
   "id": "4756d6f9",
   "metadata": {},
   "outputs": [],
   "source": [
    "# Declaire Component\n",
    "TextField = widgets.Text(disabled=False,layout=widgets.Layout(width='750px'))\n",
    "btn1= widgets.Button(description='1',button_style='info',)\n",
    "btn2= widgets.Button(description='2',button_style='info',)\n",
    "btn3= widgets.Button(description='3',button_style='info',)\n",
    "btn4= widgets.Button(description='4',button_style='info',)\n",
    "btn5= widgets.Button(description='5',button_style='info',)\n",
    "btn6= widgets.Button(description='6',button_style='info',)\n",
    "btn7= widgets.Button(description='7',button_style='info',)\n",
    "btn8= widgets.Button(description='8',button_style='info',)\n",
    "btn9= widgets.Button(description='9',button_style='info',)\n",
    "btn0= widgets.Button(description='0',button_style='info',)\n",
    "btnEqual= widgets.Button(description='=',button_style='success',)\n",
    "btnAddition= widgets.Button(description='+',button_style='danger',)\n",
    "btnSubtraction= widgets.Button(description='-',button_style='danger',)\n",
    "btnMultiplication= widgets.Button(description='*',button_style='danger',)\n",
    "btnDivision= widgets.Button(description='/',button_style='danger',)\n",
    "btnModelus= widgets.Button(description='%',button_style='danger',)\n",
    "binaryBtn=widgets.Button(description='Binary',button_style='warning',)\n",
    "decimalBtn=widgets.Button(description='Decimal',button_style='warning',)\n",
    "clearBtn=widgets.Button(description='C',button_style='success',)\n",
    "backChar=widgets.Button(description='back',button_style='success',icon='check')"
   ]
  },
  {
   "cell_type": "code",
   "execution_count": 3,
   "id": "3cb91a31",
   "metadata": {},
   "outputs": [],
   "source": [
    "#Give Layout To Component\n",
    "TextField.layout.height='40px'\n",
    "btn1.layout.height='40px'\n",
    "btn2.layout.height='40px'\n",
    "btn3.layout.height='40px'\n",
    "btn4.layout.height='40px'\n",
    "btn5.layout.height='40px'\n",
    "btn6.layout.height='40px'\n",
    "btn7.layout.height='40px'\n",
    "btn8.layout.height='40px'\n",
    "btn9.layout.height='40px'\n",
    "btn0.layout.height='40px'\n",
    "btnAddition.layout.height='40px'\n",
    "btnSubtraction.layout.height='40px'\n",
    "btnMultiplication.layout.height='40px'\n",
    "btnDivision.layout.height='40px'\n",
    "btnModelus.layout.height='40px'\n",
    "binaryBtn.layout.height='40px'\n",
    "decimalBtn.layout.height='40px'\n",
    "btnEqual.layout.height='40px'\n",
    "clearBtn.layout.height='40px'\n",
    "backChar.layout.height='40px'"
   ]
  },
  {
   "cell_type": "code",
   "execution_count": 4,
   "id": "2732e97b",
   "metadata": {},
   "outputs": [],
   "source": [
    "lst = list()\n",
    "def convertToDecimal(number):\n",
    "    if number.count('0')+number.count('1')==len(number):\n",
    "        cnt2=0\n",
    "        num=0\n",
    "        for i in range(len(number)-1,-1,-1):\n",
    "            num+= int(number[i])*pow(2,cnt2)\n",
    "            cnt2+=1\n",
    "        return num\n",
    "    else:\n",
    "        return 'Not Valid Binary Number'\n",
    "\n",
    "def convertToBinary(number):\n",
    "    ans=''\n",
    "    while number!=0:\n",
    "        ans+=str(number%2)\n",
    "        number=int(number/2)\n",
    "    return ans[::-1]\n",
    "\n",
    "def on_any_button_clicked(data):\n",
    "    current_text=TextField.value\n",
    "    btn_Value=data.description\n",
    "    if btn_Value =='C':\n",
    "        TextField.value=''\n",
    "    elif btn_Value=='=':\n",
    "        try:\n",
    "            result = eval(current_text)\n",
    "            TextField.value = str(result)\n",
    "        except Exception as e:\n",
    "            TextField.value='Error'\n",
    "        finally:\n",
    "            time.sleep(2)\n",
    "            TextField.value=''\n",
    "    elif btn_Value=='Binary':\n",
    "        TextField.value = convertToBinary(int(current_text))\n",
    "        time.sleep(2)\n",
    "        TextField.value=''\n",
    "    elif btn_Value=='Decimal':\n",
    "        TextField.value= str(convertToDecimal(current_text))\n",
    "        time.sleep(2)\n",
    "        TextField.value=''\n",
    "    elif btn_Value=='back':\n",
    "        TextField.value=current_text[0:len(current_text)-1]\n",
    "    else:\n",
    "        TextField.value+=btn_Value"
   ]
  },
  {
   "cell_type": "code",
   "execution_count": 5,
   "id": "e2694d2b",
   "metadata": {},
   "outputs": [],
   "source": [
    "#event On click On Button\n",
    "btn0.on_click(on_any_button_clicked)\n",
    "btn1.on_click(on_any_button_clicked)\n",
    "btn2.on_click(on_any_button_clicked)\n",
    "btn3.on_click(on_any_button_clicked)\n",
    "btn4.on_click(on_any_button_clicked)\n",
    "btn5.on_click(on_any_button_clicked)\n",
    "btn6.on_click(on_any_button_clicked)\n",
    "btn7.on_click(on_any_button_clicked)\n",
    "btn8.on_click(on_any_button_clicked)\n",
    "btn9.on_click(on_any_button_clicked)\n",
    "btnEqual.on_click(on_any_button_clicked)\n",
    "clearBtn.on_click(on_any_button_clicked)\n",
    "btnSubtraction.on_click(on_any_button_clicked)\n",
    "btnMultiplication.on_click(on_any_button_clicked)\n",
    "btnAddition.on_click(on_any_button_clicked)\n",
    "btnModelus.on_click(on_any_button_clicked)\n",
    "btnDivision.on_click(on_any_button_clicked)\n",
    "decimalBtn.on_click(on_any_button_clicked)\n",
    "binaryBtn.on_click(on_any_button_clicked)\n",
    "backChar.on_click(on_any_button_clicked)"
   ]
  },
  {
   "cell_type": "code",
   "execution_count": 6,
   "id": "4e0c2af6",
   "metadata": {},
   "outputs": [
    {
     "data": {
      "application/vnd.jupyter.widget-view+json": {
       "model_id": "9e44b32c03cd42a4b72deb2b7c4226f4",
       "version_major": 2,
       "version_minor": 0
      },
      "text/plain": [
       "Box(children=(Text(value='', layout=Layout(height='40px', width='750px')),))"
      ]
     },
     "metadata": {},
     "output_type": "display_data"
    },
    {
     "data": {
      "application/vnd.jupyter.widget-view+json": {
       "model_id": "a4288499cc5743518b3af6b124d9b4ad",
       "version_major": 2,
       "version_minor": 0
      },
      "text/plain": [
       "GridBox(children=(Button(button_style='info', description='0', layout=Layout(height='40px'), style=ButtonStyle…"
      ]
     },
     "execution_count": 6,
     "metadata": {},
     "output_type": "execute_result"
    }
   ],
   "source": [
    "#display Ui \n",
    "display(widgets.Box([TextField]))\n",
    "items2 = [btn0,btn1,btn2,btn3,btn4,btn5,btn6,btn7,btn8,btn9,binaryBtn,decimalBtn,btnAddition,btnSubtraction,btnModelus,clearBtn,btnDivision,btnMultiplication,backChar,btnEqual]\n",
    "widgets.GridBox(items2, layout=widgets.Layout(grid_template_columns=\"repeat(4,190px)\",grid_gap='10px'))"
   ]
  },
  {
   "cell_type": "code",
   "execution_count": null,
   "id": "2551abaf",
   "metadata": {},
   "outputs": [],
   "source": []
  }
 ],
 "metadata": {
  "kernelspec": {
   "display_name": "Python 3 (ipykernel)",
   "language": "python",
   "name": "python3"
  },
  "language_info": {
   "codemirror_mode": {
    "name": "ipython",
    "version": 3
   },
   "file_extension": ".py",
   "mimetype": "text/x-python",
   "name": "python",
   "nbconvert_exporter": "python",
   "pygments_lexer": "ipython3",
   "version": "3.11.4"
  }
 },
 "nbformat": 4,
 "nbformat_minor": 5
}
