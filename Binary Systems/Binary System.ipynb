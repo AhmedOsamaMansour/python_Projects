{
 "cells": [
  {
   "cell_type": "markdown",
   "id": "cb233cd7",
   "metadata": {
    "id": "cb233cd7"
   },
   "source": [
    "## Project Description:\n",
    "\n",
    "* Create a system using object-oriented programming (OOP) concepts where students will design three classes:\n",
    "\n",
    "#### DisplayClass:\n",
    "\n",
    "* Contains a method to display the result of the conversion (binary to decimal or vice versa).\n",
    "* Includes another method to save the result into a CSV file.\n",
    "* The CSV file should have two columns: one for binary numbers and the other for decimal numbers.\n",
    "#### BinaryToDecimalConverter:\n",
    "\n",
    "* A class responsible for converting binary numbers to decimal.\n",
    "* Utilizes appropriate methods to perform the conversion.\n",
    "#### DecimalToBinaryConverter:\n",
    "\n",
    "* A class dedicated to converting decimal numbers to binary.\n",
    "* Implements the necessary methods for the conversion process.\n",
    "<br><br>\n",
    "* The overall goal is to create a cohesive system where users can input binary numbers, perform conversions (binary to decimal or decimal to binary), display the results, and save the outcomes in a CSV file.\n",
    "\n",
    "* Ensure that the classes are well-encapsulated, follow OOP principles, and facilitate easy extension for potential future functionalities."
   ]
  },
  {
   "cell_type": "markdown",
   "id": "d4ea6215",
   "metadata": {
    "id": "d4ea6215"
   },
   "source": [
    "## Display Class"
   ]
  },
  {
   "cell_type": "code",
   "execution_count": 1,
   "id": "1530f83c",
   "metadata": {},
   "outputs": [],
   "source": [
    "import os,csv"
   ]
  },
  {
   "cell_type": "code",
   "execution_count": 2,
   "id": "b2679119",
   "metadata": {
    "id": "b2679119"
   },
   "outputs": [],
   "source": [
    "class System():\n",
    "    def __init__(self,pathOfFile):\n",
    "        self.path = pathOfFile \n",
    "    def Display(self):\n",
    "        return 'Welcome User'\n",
    "        pass\n",
    "    def Store_CSV(self,number,convertedNumber):\n",
    "        mode = 'a' if os.path.exists(os.path.join(self.path,'Data.csv')) else 'w'\n",
    "        with open(os.path.join(self.path,'Data.csv'),mode=mode,newline='') as f:\n",
    "            writer = csv.writer(f)\n",
    "            if mode == 'a':\n",
    "                writer.writerow([number,convertedNumber])                \n",
    "            else:\n",
    "                writer.writerow(['Old Number','New Number'])\n",
    "                writer.writerow([number,convertedNumber])"
   ]
  },
  {
   "cell_type": "markdown",
   "id": "c6d4dee3",
   "metadata": {
    "id": "c6d4dee3"
   },
   "source": [
    "## Decimal to Binary  Class"
   ]
  },
  {
   "cell_type": "code",
   "execution_count": 3,
   "id": "e5080914",
   "metadata": {
    "id": "e5080914"
   },
   "outputs": [],
   "source": [
    "class Binary(System):\n",
    "    def __init__(self,number,pathOfFile):\n",
    "        System.__init__(self,pathOfFile)\n",
    "        self.number = int(number)\n",
    "    def getNumber(self):\n",
    "        return self.number\n",
    "    def convertToBinary(self):\n",
    "        num = self.number\n",
    "        ans=''\n",
    "        while num!=0:\n",
    "            ans+=str(num%2)\n",
    "            num = int(num/2)\n",
    "        return ans[::-1]\n",
    "    def Display(self):\n",
    "        print(f'Original Number = {self.number} - Converted Number = {self.convertToBinary()}')\n",
    "        return"
   ]
  },
  {
   "cell_type": "markdown",
   "id": "23f25020",
   "metadata": {
    "id": "8391a4c6"
   },
   "source": [
    "## Binary to Decimal Class"
   ]
  },
  {
   "cell_type": "code",
   "execution_count": 4,
   "id": "3042af64",
   "metadata": {
    "id": "3042af64"
   },
   "outputs": [],
   "source": [
    "class Deimal(System):\n",
    "    def __init__(self,number,pathOfFile):\n",
    "        System.__init__(self,pathOfFile)\n",
    "        self.number = str(number)\n",
    "    def getNumber(self):\n",
    "        return self.number\n",
    "    def convertToDecimal(self):\n",
    "        if self.number.count('0')+self.number.count('1')==len(self.number):\n",
    "            cnt2=0\n",
    "            num=0\n",
    "            for i in range(len(self.number)-1,-1,-1):\n",
    "                num+= int(self.number[i])*pow(2,cnt2)\n",
    "                cnt2+=1\n",
    "            return str(num)\n",
    "        else:\n",
    "            return 'Not Valid Binary Number'\n",
    "    def Display(self):\n",
    "        print(f'Original Number = {self.number} - Converted Number = {self.convertToDecimal()}')\n",
    "        return"
   ]
  },
  {
   "cell_type": "code",
   "execution_count": 5,
   "id": "5c264573",
   "metadata": {},
   "outputs": [
    {
     "name": "stdout",
     "output_type": "stream",
     "text": [
      "Original Number = 4 - Converted Number = 100\n"
     ]
    }
   ],
   "source": [
    "num1 = Binary(4,'.')\n",
    "num1.Display()"
   ]
  },
  {
   "cell_type": "code",
   "execution_count": 6,
   "id": "9fc276a1",
   "metadata": {},
   "outputs": [],
   "source": [
    "num1.Store_CSV(num1.getNumber(),num1.convertToBinary())"
   ]
  },
  {
   "cell_type": "code",
   "execution_count": 7,
   "id": "b1a90f2a",
   "metadata": {},
   "outputs": [
    {
     "name": "stdout",
     "output_type": "stream",
     "text": [
      "Original Number = 100 - Converted Number = 4\n"
     ]
    }
   ],
   "source": [
    "num2 = Deimal(100,'.')\n",
    "num2.Display()"
   ]
  },
  {
   "cell_type": "code",
   "execution_count": 8,
   "id": "1268fb03",
   "metadata": {},
   "outputs": [],
   "source": [
    "num2.Store_CSV(num2.getNumber(),num2.convertToDecimal())"
   ]
  },
  {
   "cell_type": "markdown",
   "id": "bc3743f3",
   "metadata": {},
   "source": [
    "# -----------------------------------------------------------------------------------------------------------"
   ]
  },
  {
   "cell_type": "code",
   "execution_count": 9,
   "id": "fcecfc0e",
   "metadata": {},
   "outputs": [],
   "source": [
    "def MenuOfSystem():\n",
    "    print(' '*15,'*'*60)\n",
    "    print(' '*15,'*',' '*56,'*')\n",
    "    print(' '*15,'*',' '*3,'1- Enter [Decimal] To Convert Number To Decimal',' '*4,'*')\n",
    "    print(' '*15,'*',' '*56,'*')\n",
    "    print(' '*15,'*',' '*3,'2- Enter [Binary] To Convert Number To Binary',' '*6,'*')\n",
    "    print(' '*15,'*',' '*56,'*')\n",
    "    print(' '*15,'*',' '*3,'3- Enter [Exit] To End The Program',' '*17,'*')\n",
    "    print(' '*15,'*',' '*56,'*')\n",
    "    print(' '*15,'*'*60)\n",
    "def SubMenu():\n",
    "    print(' '*15,'*'*60)\n",
    "    print(' '*15,'*',' '*56,'*')\n",
    "    print(' '*15,'*',' '*3,'1- Enter [Display] To Display Numbers',' '*14,'*')\n",
    "    print(' '*15,'*',' '*56,'*')\n",
    "    print(' '*15,'*',' '*3,'2- Enter [Store] To Save Data In CSV',' '*15,'*')\n",
    "    print(' '*15,'*',' '*56,'*')\n",
    "    print(' '*15,'*',' '*3,'3- Enter [Exit] To Enter Another Number',' '*12,'*')\n",
    "    print(' '*15,'*',' '*56,'*')\n",
    "    print(' '*15,'*'*60)"
   ]
  },
  {
   "cell_type": "code",
   "execution_count": 10,
   "id": "0a130bbe",
   "metadata": {},
   "outputs": [],
   "source": [
    "class System():\n",
    "    def __init__(self,pathOfFile):\n",
    "        self.path = pathOfFile \n",
    "    def Display(self):\n",
    "        return 'Welcome User'\n",
    "        pass\n",
    "    def Store_CSV(self,number,convertedNumber):\n",
    "        mode = 'a' if os.path.exists(os.path.join(self.path,'Data.csv')) else 'w'\n",
    "        with open(os.path.join(self.path,'Data.csv'),mode=mode,newline='') as f:\n",
    "            writer = csv.writer(f)\n",
    "            if mode == 'a':\n",
    "                writer.writerow([number,convertedNumber])                \n",
    "            else:\n",
    "                writer.writerow(['Old Number','New Number'])\n",
    "                writer.writerow([number,convertedNumber])\n",
    "#------------------------------------------------------------------------------------------------\n",
    "class Binary(System):\n",
    "    def __init__(self,number,pathOfFile):\n",
    "        System.__init__(self,pathOfFile)\n",
    "        self.number = int(number)\n",
    "    def getNumber(self):\n",
    "        return self.number\n",
    "    def convertToBinary(self):\n",
    "        num = self.number\n",
    "        ans=''\n",
    "        while num!=0:\n",
    "            ans+=str(num%2)\n",
    "            num = int(num/2)\n",
    "        return ans[::-1]\n",
    "    def Display(self):\n",
    "        print(f'Original Number = {self.number} - Converted Number = {self.convertToBinary()}')\n",
    "#------------------------------------------------------------------------------------------------\n",
    "class Deimal(System):\n",
    "    def __init__(self,number,pathOfFile):\n",
    "        System.__init__(self,pathOfFile)\n",
    "        self.number = str(number)\n",
    "    def getNumber(self):\n",
    "        return self.number\n",
    "    def convertToDecimal(self):\n",
    "        if self.number.count('0')+self.number.count('1')==len(self.number):\n",
    "            cnt2=0\n",
    "            num=0\n",
    "            for i in range(len(self.number)-1,-1,-1):\n",
    "                num+= int(self.number[i])*pow(2,cnt2)\n",
    "                cnt2+=1\n",
    "            return str(num)\n",
    "        else:\n",
    "            return 'Not Valid Binary Number'\n",
    "    def Display(self):\n",
    "        print(f'Original Number = {self.number} - Converted Number = {self.convertToDecimal()}')"
   ]
  },
  {
   "cell_type": "code",
   "execution_count": 11,
   "id": "d2c53e96",
   "metadata": {},
   "outputs": [
    {
     "name": "stdout",
     "output_type": "stream",
     "text": [
      "                ************************************************************\n",
      "                *                                                          *\n",
      "                *     1- Enter [Decimal] To Convert Number To Decimal      *\n",
      "                *                                                          *\n",
      "                *     2- Enter [Binary] To Convert Number To Binary        *\n",
      "                *                                                          *\n",
      "                *     3- Enter [Exit] To End The Program                   *\n",
      "                *                                                          *\n",
      "                ************************************************************\n",
      "Enter Your Choice : Decimal\n",
      "Enter Number : 100\n",
      "                ************************************************************\n",
      "                *                                                          *\n",
      "                *     1- Enter [Display] To Display Numbers                *\n",
      "                *                                                          *\n",
      "                *     2- Enter [Store] To Save Data In CSV                 *\n",
      "                *                                                          *\n",
      "                *     3- Enter [Exit] To Enter Another Number              *\n",
      "                *                                                          *\n",
      "                ************************************************************\n",
      "Enter Your Choice : Display\n",
      "Original Number = 100 - Converted Number = 4\n",
      "                ************************************************************\n",
      "                *                                                          *\n",
      "                *     1- Enter [Display] To Display Numbers                *\n",
      "                *                                                          *\n",
      "                *     2- Enter [Store] To Save Data In CSV                 *\n",
      "                *                                                          *\n",
      "                *     3- Enter [Exit] To Enter Another Number              *\n",
      "                *                                                          *\n",
      "                ************************************************************\n",
      "Enter Your Choice : Store\n",
      "                ************************************************************\n",
      "                *                                                          *\n",
      "                *     1- Enter [Display] To Display Numbers                *\n",
      "                *                                                          *\n",
      "                *     2- Enter [Store] To Save Data In CSV                 *\n",
      "                *                                                          *\n",
      "                *     3- Enter [Exit] To Enter Another Number              *\n",
      "                *                                                          *\n",
      "                ************************************************************\n",
      "Enter Your Choice : close\n",
      "Enter Valid Choice\n",
      "                ************************************************************\n",
      "                *                                                          *\n",
      "                *     1- Enter [Display] To Display Numbers                *\n",
      "                *                                                          *\n",
      "                *     2- Enter [Store] To Save Data In CSV                 *\n",
      "                *                                                          *\n",
      "                *     3- Enter [Exit] To Enter Another Number              *\n",
      "                *                                                          *\n",
      "                ************************************************************\n",
      "Enter Your Choice : Exit\n",
      "                ************************************************************\n",
      "                *                                                          *\n",
      "                *     1- Enter [Decimal] To Convert Number To Decimal      *\n",
      "                *                                                          *\n",
      "                *     2- Enter [Binary] To Convert Number To Binary        *\n",
      "                *                                                          *\n",
      "                *     3- Enter [Exit] To End The Program                   *\n",
      "                *                                                          *\n",
      "                ************************************************************\n",
      "Enter Your Choice : Binary\n",
      "Enter Number : 4\n",
      "                ************************************************************\n",
      "                *                                                          *\n",
      "                *     1- Enter [Display] To Display Numbers                *\n",
      "                *                                                          *\n",
      "                *     2- Enter [Store] To Save Data In CSV                 *\n",
      "                *                                                          *\n",
      "                *     3- Enter [Exit] To Enter Another Number              *\n",
      "                *                                                          *\n",
      "                ************************************************************\n",
      "Enter Your Choice : Display\n",
      "Original Number = 4 - Converted Number = 100\n",
      "                ************************************************************\n",
      "                *                                                          *\n",
      "                *     1- Enter [Display] To Display Numbers                *\n",
      "                *                                                          *\n",
      "                *     2- Enter [Store] To Save Data In CSV                 *\n",
      "                *                                                          *\n",
      "                *     3- Enter [Exit] To Enter Another Number              *\n",
      "                *                                                          *\n",
      "                ************************************************************\n",
      "Enter Your Choice : Store\n",
      "                ************************************************************\n",
      "                *                                                          *\n",
      "                *     1- Enter [Display] To Display Numbers                *\n",
      "                *                                                          *\n",
      "                *     2- Enter [Store] To Save Data In CSV                 *\n",
      "                *                                                          *\n",
      "                *     3- Enter [Exit] To Enter Another Number              *\n",
      "                *                                                          *\n",
      "                ************************************************************\n",
      "Enter Your Choice : close\n",
      "Enter Valid Choice\n",
      "                ************************************************************\n",
      "                *                                                          *\n",
      "                *     1- Enter [Display] To Display Numbers                *\n",
      "                *                                                          *\n",
      "                *     2- Enter [Store] To Save Data In CSV                 *\n",
      "                *                                                          *\n",
      "                *     3- Enter [Exit] To Enter Another Number              *\n",
      "                *                                                          *\n",
      "                ************************************************************\n",
      "Enter Your Choice : Exit\n",
      "                ************************************************************\n",
      "                *                                                          *\n",
      "                *     1- Enter [Decimal] To Convert Number To Decimal      *\n",
      "                *                                                          *\n",
      "                *     2- Enter [Binary] To Convert Number To Binary        *\n",
      "                *                                                          *\n",
      "                *     3- Enter [Exit] To End The Program                   *\n",
      "                *                                                          *\n",
      "                ************************************************************\n",
      "Enter Your Choice : Exit\n"
     ]
    }
   ],
   "source": [
    "while True:\n",
    "    MenuOfSystem()\n",
    "    choice1 = input('Enter Your Choice : ').lower()\n",
    "    if choice1 == 'exit':\n",
    "        break\n",
    "    else:\n",
    "        if choice1 == 'decimal':\n",
    "            number = int(input('Enter Number : '))\n",
    "            while True:\n",
    "                SubMenu()\n",
    "                num = Deimal(number,'.') \n",
    "                choice2 = input('Enter Your Choice : ').lower()\n",
    "                if choice2 == 'display':\n",
    "                    num.Display()\n",
    "                    continue\n",
    "                elif choice2 == 'store':\n",
    "                    num.Store_CSV(num.getNumber(),num.convertToDecimal())\n",
    "                    continue\n",
    "                elif choice2 == 'exit':\n",
    "                    break\n",
    "                else:\n",
    "                    print('enter valid choice'.title())\n",
    "                    continue\n",
    "        elif choice1 == 'binary':\n",
    "            number = int(input('Enter Number : '))\n",
    "            while True:\n",
    "                SubMenu()\n",
    "                num = Binary(number,'.')\n",
    "                choice2 = input('Enter Your Choice : ').lower()\n",
    "                if choice2 == 'display':\n",
    "                    num.Display()\n",
    "                elif choice2 == 'store':\n",
    "                    num.Store_CSV(num.getNumber(),num.convertToBinary())\n",
    "                elif choice2 == 'exit':\n",
    "                    break\n",
    "                else:\n",
    "                    print('enter valid choice'.title())\n",
    "                    continue\n",
    "        else:\n",
    "            print('enter valid choice'.title())"
   ]
  },
  {
   "cell_type": "code",
   "execution_count": null,
   "id": "1049cdf5",
   "metadata": {},
   "outputs": [],
   "source": []
  }
 ],
 "metadata": {
  "colab": {
   "provenance": []
  },
  "kernelspec": {
   "display_name": "Python 3 (ipykernel)",
   "language": "python",
   "name": "python3"
  },
  "language_info": {
   "codemirror_mode": {
    "name": "ipython",
    "version": 3
   },
   "file_extension": ".py",
   "mimetype": "text/x-python",
   "name": "python",
   "nbconvert_exporter": "python",
   "pygments_lexer": "ipython3",
   "version": "3.11.4"
  }
 },
 "nbformat": 4,
 "nbformat_minor": 5
}
