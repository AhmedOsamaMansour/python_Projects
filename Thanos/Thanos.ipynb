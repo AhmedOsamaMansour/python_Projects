{
 "cells": [
  {
   "cell_type": "markdown",
   "metadata": {},
   "source": [
    "<img src=\"thanos.jpg\">"
   ]
  },
  {
   "cell_type": "markdown",
   "metadata": {},
   "source": [
    "## Description\n",
    "> ##### We're creating an interactive Python program inspired by Thanos, the fictional character known for the infamous snap that wiped out half of the population. In our project, this \"population\" is represented by a set of 50 images.\n",
    "> ##### Here's how it works: the user will be asked to type \"Thanos\" (no matter the case) to trigger the snap, randomly removing half of the images. You can play this simulation multiple times, and we've added a cool feature – a backup function that lets you bring back the images and start the simulation again.\n",
    "> ##### We've divided the project into two milestones. For the first milestone, we need you to deliver a function that takes half of the population and \"kills\" them. In the second milestone, we want the complete system with all the interactive features, backup functionality, and a smooth exit option.\n",
    "> ##### Key Features:\n",
    "\n",
    "> ##### Simulates the Thanos snap on a set of 50 images.\n",
    "> ##### User-friendly prompts for interaction.\n",
    "> ##### Backup and restore functionality for repeated simulations.\n",
    "> ##### Seamless exit option to conclude the program.\n",
    "\n",
    "\n",
    "> ##### **Milestone 1 (Deliver by [08 / 12 / 2023]):**\n",
    "<font color=\"red\">For the first milestone, deliver a function that takes half of the population and \"kills\" them.</font>\n",
    "\n",
    "> ##### **Milestone 2 (Deliver by [15 / 12 / 2023]):**\n",
    "<font color=\"red\">In the second milestone, deliver the complete system with all interactive features, backup functionality, and a smooth exit option.</font>\n"
   ]
  },
  {
   "cell_type": "code",
   "execution_count": 1,
   "metadata": {},
   "outputs": [],
   "source": [
    "import os\n",
    "import random\n",
    "import shutil\n",
    "from tqdm import tqdm"
   ]
  },
  {
   "cell_type": "code",
   "execution_count": 2,
   "metadata": {},
   "outputs": [
    {
     "name": "stdout",
     "output_type": "stream",
     "text": [
      "C:\\Users\\Ahmed osama\\Downloads\\Session 8\\Assignment\\Project 3 - Thanos\n"
     ]
    }
   ],
   "source": [
    "workingPath= './universe/'\n",
    "backupFile='./backup/'\n",
    "fullpath=os.getcwd()\n",
    "print(fullpath)"
   ]
  },
  {
   "cell_type": "code",
   "execution_count": 3,
   "metadata": {},
   "outputs": [
    {
     "name": "stdout",
     "output_type": "stream",
     "text": [
      "1- enter thanos if you want to play\n",
      "2- enter close if you want to end\n",
      "enter your choice : thanos\n",
      "Iam Coping Images Again\n"
     ]
    },
    {
     "name": "stderr",
     "output_type": "stream",
     "text": [
      "100%|█████████████████████████████████████████████████████████████████████████████████| 50/50 [00:00<00:00, 746.48it/s]\n"
     ]
    },
    {
     "name": "stdout",
     "output_type": "stream",
     "text": [
      "1- enter thanos if you want to play\n",
      "2- enter close if you want to end\n",
      "enter your choice : thanos\n",
      "You delete 25 image and they are in this list\n",
      "['cover035.png', 'cover050.png', 'cover028.png', 'cover047.png', 'cover049.png', 'cover007.png', 'cover022.png', 'cover020.png', 'cover034.png', 'cover004.png', 'cover039.png', 'cover038.png', 'cover048.png', 'cover046.png', 'cover041.png', 'cover031.png', 'cover017.png', 'cover027.png', 'cover012.png', 'cover026.png', 'cover033.png', 'cover024.png', 'cover029.png', 'cover043.png', 'cover008.png']\n",
      "************************************************************************************************************************\n",
      "1- enter thanos if you want to play\n",
      "2- enter close if you want to end\n",
      "enter your choice : thanos\n",
      "You delete 37 image and they are in this list\n",
      "['cover035.png', 'cover050.png', 'cover028.png', 'cover047.png', 'cover049.png', 'cover007.png', 'cover022.png', 'cover020.png', 'cover034.png', 'cover004.png', 'cover039.png', 'cover038.png', 'cover048.png', 'cover046.png', 'cover041.png', 'cover031.png', 'cover017.png', 'cover027.png', 'cover012.png', 'cover026.png', 'cover033.png', 'cover024.png', 'cover029.png', 'cover043.png', 'cover008.png', 'cover018.png', 'cover044.png', 'cover037.png', 'cover015.png', 'cover032.png', 'cover023.png', 'cover016.png', 'cover002.png', 'cover040.png', 'cover005.png', 'cover013.png', 'cover001.png']\n",
      "************************************************************************************************************************\n",
      "1- enter thanos if you want to play\n",
      "2- enter close if you want to end\n",
      "enter your choice : thanos\n",
      "You delete 43 image and they are in this list\n",
      "['cover035.png', 'cover050.png', 'cover028.png', 'cover047.png', 'cover049.png', 'cover007.png', 'cover022.png', 'cover020.png', 'cover034.png', 'cover004.png', 'cover039.png', 'cover038.png', 'cover048.png', 'cover046.png', 'cover041.png', 'cover031.png', 'cover017.png', 'cover027.png', 'cover012.png', 'cover026.png', 'cover033.png', 'cover024.png', 'cover029.png', 'cover043.png', 'cover008.png', 'cover018.png', 'cover044.png', 'cover037.png', 'cover015.png', 'cover032.png', 'cover023.png', 'cover016.png', 'cover002.png', 'cover040.png', 'cover005.png', 'cover013.png', 'cover001.png', 'cover006.png', 'cover042.png', 'cover030.png', 'cover045.png', 'cover021.png', 'cover025.png']\n",
      "************************************************************************************************************************\n",
      "1- enter thanos if you want to play\n",
      "2- enter close if you want to end\n",
      "enter your choice : thanos\n",
      "You delete 46 image and they are in this list\n",
      "['cover035.png', 'cover050.png', 'cover028.png', 'cover047.png', 'cover049.png', 'cover007.png', 'cover022.png', 'cover020.png', 'cover034.png', 'cover004.png', 'cover039.png', 'cover038.png', 'cover048.png', 'cover046.png', 'cover041.png', 'cover031.png', 'cover017.png', 'cover027.png', 'cover012.png', 'cover026.png', 'cover033.png', 'cover024.png', 'cover029.png', 'cover043.png', 'cover008.png', 'cover018.png', 'cover044.png', 'cover037.png', 'cover015.png', 'cover032.png', 'cover023.png', 'cover016.png', 'cover002.png', 'cover040.png', 'cover005.png', 'cover013.png', 'cover001.png', 'cover006.png', 'cover042.png', 'cover030.png', 'cover045.png', 'cover021.png', 'cover025.png', 'cover036.png', 'cover003.png', 'cover019.png']\n",
      "************************************************************************************************************************\n",
      "1- enter thanos if you want to play\n",
      "2- enter close if you want to end\n",
      "enter your choice : thanos\n",
      "You delete 48 image and they are in this list\n",
      "['cover035.png', 'cover050.png', 'cover028.png', 'cover047.png', 'cover049.png', 'cover007.png', 'cover022.png', 'cover020.png', 'cover034.png', 'cover004.png', 'cover039.png', 'cover038.png', 'cover048.png', 'cover046.png', 'cover041.png', 'cover031.png', 'cover017.png', 'cover027.png', 'cover012.png', 'cover026.png', 'cover033.png', 'cover024.png', 'cover029.png', 'cover043.png', 'cover008.png', 'cover018.png', 'cover044.png', 'cover037.png', 'cover015.png', 'cover032.png', 'cover023.png', 'cover016.png', 'cover002.png', 'cover040.png', 'cover005.png', 'cover013.png', 'cover001.png', 'cover006.png', 'cover042.png', 'cover030.png', 'cover045.png', 'cover021.png', 'cover025.png', 'cover036.png', 'cover003.png', 'cover019.png', 'cover011.png', 'cover014.png']\n",
      "************************************************************************************************************************\n",
      "1- enter thanos if you want to play\n",
      "2- enter close if you want to end\n",
      "enter your choice : thanos\n",
      "You delete 49 image and they are in this list\n",
      "['cover035.png', 'cover050.png', 'cover028.png', 'cover047.png', 'cover049.png', 'cover007.png', 'cover022.png', 'cover020.png', 'cover034.png', 'cover004.png', 'cover039.png', 'cover038.png', 'cover048.png', 'cover046.png', 'cover041.png', 'cover031.png', 'cover017.png', 'cover027.png', 'cover012.png', 'cover026.png', 'cover033.png', 'cover024.png', 'cover029.png', 'cover043.png', 'cover008.png', 'cover018.png', 'cover044.png', 'cover037.png', 'cover015.png', 'cover032.png', 'cover023.png', 'cover016.png', 'cover002.png', 'cover040.png', 'cover005.png', 'cover013.png', 'cover001.png', 'cover006.png', 'cover042.png', 'cover030.png', 'cover045.png', 'cover021.png', 'cover025.png', 'cover036.png', 'cover003.png', 'cover019.png', 'cover011.png', 'cover014.png', 'cover010.png']\n",
      "************************************************************************************************************************\n",
      "1- enter thanos if you want to play\n",
      "2- enter close if you want to end\n",
      "enter your choice : thanos\n",
      "Good Job The Game End\n",
      "You delete 50 image and they are in this list\n",
      "['cover035.png', 'cover050.png', 'cover028.png', 'cover047.png', 'cover049.png', 'cover007.png', 'cover022.png', 'cover020.png', 'cover034.png', 'cover004.png', 'cover039.png', 'cover038.png', 'cover048.png', 'cover046.png', 'cover041.png', 'cover031.png', 'cover017.png', 'cover027.png', 'cover012.png', 'cover026.png', 'cover033.png', 'cover024.png', 'cover029.png', 'cover043.png', 'cover008.png', 'cover018.png', 'cover044.png', 'cover037.png', 'cover015.png', 'cover032.png', 'cover023.png', 'cover016.png', 'cover002.png', 'cover040.png', 'cover005.png', 'cover013.png', 'cover001.png', 'cover006.png', 'cover042.png', 'cover030.png', 'cover045.png', 'cover021.png', 'cover025.png', 'cover036.png', 'cover003.png', 'cover019.png', 'cover011.png', 'cover014.png', 'cover010.png', 'cover009.png']\n",
      "************************************************************************************************************************\n",
      "1- enter thanos if you want to play\n",
      "2- enter close if you want to end\n",
      "enter your choice : thanos\n",
      "Iam Coping Images Again\n"
     ]
    },
    {
     "name": "stderr",
     "output_type": "stream",
     "text": [
      "100%|█████████████████████████████████████████████████████████████████████████████████| 50/50 [00:00<00:00, 806.49it/s]\n"
     ]
    },
    {
     "name": "stdout",
     "output_type": "stream",
     "text": [
      "1- enter thanos if you want to play\n",
      "2- enter close if you want to end\n",
      "enter your choice : thanos\n",
      "You delete 25 image and they are in this list\n",
      "['cover034.png', 'cover013.png', 'cover050.png', 'cover007.png', 'cover043.png', 'cover009.png', 'cover003.png', 'cover035.png', 'cover036.png', 'cover042.png', 'cover032.png', 'cover045.png', 'cover040.png', 'cover037.png', 'cover018.png', 'cover012.png', 'cover010.png', 'cover024.png', 'cover029.png', 'cover005.png', 'cover020.png', 'cover023.png', 'cover014.png', 'cover016.png', 'cover002.png']\n",
      "************************************************************************************************************************\n",
      "1- enter thanos if you want to play\n",
      "2- enter close if you want to end\n",
      "enter your choice : thanos\n",
      "You delete 37 image and they are in this list\n",
      "['cover034.png', 'cover013.png', 'cover050.png', 'cover007.png', 'cover043.png', 'cover009.png', 'cover003.png', 'cover035.png', 'cover036.png', 'cover042.png', 'cover032.png', 'cover045.png', 'cover040.png', 'cover037.png', 'cover018.png', 'cover012.png', 'cover010.png', 'cover024.png', 'cover029.png', 'cover005.png', 'cover020.png', 'cover023.png', 'cover014.png', 'cover016.png', 'cover002.png', 'cover027.png', 'cover049.png', 'cover030.png', 'cover046.png', 'cover022.png', 'cover015.png', 'cover038.png', 'cover028.png', 'cover047.png', 'cover004.png', 'cover031.png', 'cover001.png']\n",
      "************************************************************************************************************************\n",
      "1- enter thanos if you want to play\n",
      "2- enter close if you want to end\n",
      "enter your choice : thanos\n",
      "You delete 43 image and they are in this list\n",
      "['cover034.png', 'cover013.png', 'cover050.png', 'cover007.png', 'cover043.png', 'cover009.png', 'cover003.png', 'cover035.png', 'cover036.png', 'cover042.png', 'cover032.png', 'cover045.png', 'cover040.png', 'cover037.png', 'cover018.png', 'cover012.png', 'cover010.png', 'cover024.png', 'cover029.png', 'cover005.png', 'cover020.png', 'cover023.png', 'cover014.png', 'cover016.png', 'cover002.png', 'cover027.png', 'cover049.png', 'cover030.png', 'cover046.png', 'cover022.png', 'cover015.png', 'cover038.png', 'cover028.png', 'cover047.png', 'cover004.png', 'cover031.png', 'cover001.png', 'cover025.png', 'cover021.png', 'cover008.png', 'cover011.png', 'cover026.png', 'cover039.png']\n",
      "************************************************************************************************************************\n",
      "1- enter thanos if you want to play\n",
      "2- enter close if you want to end\n",
      "enter your choice : thanos\n",
      "You delete 46 image and they are in this list\n",
      "['cover034.png', 'cover013.png', 'cover050.png', 'cover007.png', 'cover043.png', 'cover009.png', 'cover003.png', 'cover035.png', 'cover036.png', 'cover042.png', 'cover032.png', 'cover045.png', 'cover040.png', 'cover037.png', 'cover018.png', 'cover012.png', 'cover010.png', 'cover024.png', 'cover029.png', 'cover005.png', 'cover020.png', 'cover023.png', 'cover014.png', 'cover016.png', 'cover002.png', 'cover027.png', 'cover049.png', 'cover030.png', 'cover046.png', 'cover022.png', 'cover015.png', 'cover038.png', 'cover028.png', 'cover047.png', 'cover004.png', 'cover031.png', 'cover001.png', 'cover025.png', 'cover021.png', 'cover008.png', 'cover011.png', 'cover026.png', 'cover039.png', 'cover044.png', 'cover048.png', 'cover019.png']\n",
      "************************************************************************************************************************\n",
      "1- enter thanos if you want to play\n",
      "2- enter close if you want to end\n",
      "enter your choice : thanos\n",
      "You delete 48 image and they are in this list\n",
      "['cover034.png', 'cover013.png', 'cover050.png', 'cover007.png', 'cover043.png', 'cover009.png', 'cover003.png', 'cover035.png', 'cover036.png', 'cover042.png', 'cover032.png', 'cover045.png', 'cover040.png', 'cover037.png', 'cover018.png', 'cover012.png', 'cover010.png', 'cover024.png', 'cover029.png', 'cover005.png', 'cover020.png', 'cover023.png', 'cover014.png', 'cover016.png', 'cover002.png', 'cover027.png', 'cover049.png', 'cover030.png', 'cover046.png', 'cover022.png', 'cover015.png', 'cover038.png', 'cover028.png', 'cover047.png', 'cover004.png', 'cover031.png', 'cover001.png', 'cover025.png', 'cover021.png', 'cover008.png', 'cover011.png', 'cover026.png', 'cover039.png', 'cover044.png', 'cover048.png', 'cover019.png', 'cover017.png', 'cover041.png']\n",
      "************************************************************************************************************************\n",
      "1- enter thanos if you want to play\n",
      "2- enter close if you want to end\n",
      "enter your choice : thanos\n",
      "You delete 49 image and they are in this list\n",
      "['cover034.png', 'cover013.png', 'cover050.png', 'cover007.png', 'cover043.png', 'cover009.png', 'cover003.png', 'cover035.png', 'cover036.png', 'cover042.png', 'cover032.png', 'cover045.png', 'cover040.png', 'cover037.png', 'cover018.png', 'cover012.png', 'cover010.png', 'cover024.png', 'cover029.png', 'cover005.png', 'cover020.png', 'cover023.png', 'cover014.png', 'cover016.png', 'cover002.png', 'cover027.png', 'cover049.png', 'cover030.png', 'cover046.png', 'cover022.png', 'cover015.png', 'cover038.png', 'cover028.png', 'cover047.png', 'cover004.png', 'cover031.png', 'cover001.png', 'cover025.png', 'cover021.png', 'cover008.png', 'cover011.png', 'cover026.png', 'cover039.png', 'cover044.png', 'cover048.png', 'cover019.png', 'cover017.png', 'cover041.png', 'cover006.png']\n",
      "************************************************************************************************************************\n",
      "1- enter thanos if you want to play\n",
      "2- enter close if you want to end\n",
      "enter your choice : thanos\n",
      "Good Job The Game End\n",
      "You delete 50 image and they are in this list\n",
      "['cover034.png', 'cover013.png', 'cover050.png', 'cover007.png', 'cover043.png', 'cover009.png', 'cover003.png', 'cover035.png', 'cover036.png', 'cover042.png', 'cover032.png', 'cover045.png', 'cover040.png', 'cover037.png', 'cover018.png', 'cover012.png', 'cover010.png', 'cover024.png', 'cover029.png', 'cover005.png', 'cover020.png', 'cover023.png', 'cover014.png', 'cover016.png', 'cover002.png', 'cover027.png', 'cover049.png', 'cover030.png', 'cover046.png', 'cover022.png', 'cover015.png', 'cover038.png', 'cover028.png', 'cover047.png', 'cover004.png', 'cover031.png', 'cover001.png', 'cover025.png', 'cover021.png', 'cover008.png', 'cover011.png', 'cover026.png', 'cover039.png', 'cover044.png', 'cover048.png', 'cover019.png', 'cover017.png', 'cover041.png', 'cover006.png', 'cover033.png']\n",
      "************************************************************************************************************************\n",
      "1- enter thanos if you want to play\n",
      "2- enter close if you want to end\n",
      "enter your choice : ih\n",
      "enter valid choice\n",
      "1- enter thanos if you want to play\n",
      "2- enter close if you want to end\n",
      "enter your choice : close\n"
     ]
    }
   ],
   "source": [
    "lstOfFiles=os.listdir(workingPath)\n",
    "deletedLst=list()\n",
    "while True:\n",
    "    print('1- enter thanos if you want to play')\n",
    "    print('2- enter close if you want to end')\n",
    "    choice = input('enter your choice : ').lower()\n",
    "    if(choice=='thanos'):\n",
    "        if(len(lstOfFiles)==0):\n",
    "            files = os.listdir(backupFile)\n",
    "            print('Iam Coping Images Again')\n",
    "            for file_name in tqdm(files):\n",
    "                source_file = os.path.join(backupFile, file_name)\n",
    "                destination_file = os.path.join(workingPath, file_name)\n",
    "                shutil.copy(source_file, destination_file)\n",
    "            deletedLst=[]\n",
    "            lstOfFiles=os.listdir(workingPath)\n",
    "            continue\n",
    "        else:\n",
    "            length = int(len(lstOfFiles)/2)\n",
    "            if length ==0:\n",
    "                    temp = lstOfFiles[0]\n",
    "                    lstOfFiles.remove(temp)\n",
    "                    deletedLst.append(temp)\n",
    "                    os.remove(os.path.join(workingPath,temp))\n",
    "                    print('Good Job The Game End')\n",
    "            else:\n",
    "                for i in (range(length)):\n",
    "                    temp = random.choice(lstOfFiles)\n",
    "                    lstOfFiles.remove(temp)\n",
    "                    deletedLst.append(temp)\n",
    "                    os.remove(os.path.join(workingPath,temp))                    \n",
    "            print(f'You delete {len(deletedLst)} image and they are in this list')\n",
    "            print(deletedLst)\n",
    "            print('*'*120)\n",
    "    elif(choice =='close'):\n",
    "        break\n",
    "    else:\n",
    "        print('enter valid choice')"
   ]
  },
  {
   "cell_type": "markdown",
   "metadata": {},
   "source": [
    "# ********************************************************************************************"
   ]
  },
  {
   "cell_type": "markdown",
   "metadata": {},
   "source": [
    "# Another Solution"
   ]
  },
  {
   "cell_type": "markdown",
   "metadata": {},
   "source": [
    "# ********************************************************************************************"
   ]
  },
  {
   "cell_type": "code",
   "execution_count": 1,
   "metadata": {},
   "outputs": [],
   "source": [
    "import random,os,time,shutil\n",
    "from tqdm import tqdm"
   ]
  },
  {
   "cell_type": "code",
   "execution_count": 2,
   "metadata": {},
   "outputs": [],
   "source": [
    "def Thanos(path):\n",
    "    currentPath= os.path.join(path,'universe')\n",
    "    backupPath= os.path.join(path,'backup')\n",
    "    population = os.listdir(currentPath)\n",
    "    length = 1 if len(population)==1 else len(population)//2\n",
    "    kill = random.sample(population,k=length)\n",
    "    for img in kill:\n",
    "        os.remove(os.path.join(currentPath,img))\n",
    "        print(f'{img} was killed'.title())\n",
    "        time.sleep(1)"
   ]
  },
  {
   "cell_type": "code",
   "execution_count": 3,
   "metadata": {},
   "outputs": [],
   "source": [
    "def Backup(source,destination):\n",
    "    lst = os.listdir(source)\n",
    "    for i in tqdm(lst):\n",
    "        shutil.copy(os.path.join(source,i),os.path.join(destination,i))\n",
    "#         print(f'{i} was Restored'.title())\n",
    "        time.sleep(1)\n",
    "    print('All images Restored')"
   ]
  },
  {
   "cell_type": "code",
   "execution_count": 4,
   "metadata": {
    "scrolled": true
   },
   "outputs": [
    {
     "name": "stdout",
     "output_type": "stream",
     "text": [
      "1- enter [thanos] if you want to play\n",
      "2- enter [close] if you want to end\n",
      "enter your choice : thanos\n",
      "Opps there are no people kill !!\n"
     ]
    },
    {
     "name": "stderr",
     "output_type": "stream",
     "text": [
      "100%|██████████████████████████████████████████████████████████████████████████████████| 50/50 [00:50<00:00,  1.01s/it]\n"
     ]
    },
    {
     "name": "stdout",
     "output_type": "stream",
     "text": [
      "All images Restored\n",
      "1- enter [thanos] if you want to play\n",
      "2- enter [close] if you want to end\n",
      "enter your choice : thanos\n",
      "Cover034.Png Was Killed\n",
      "Cover038.Png Was Killed\n",
      "Cover033.Png Was Killed\n",
      "Cover046.Png Was Killed\n",
      "Cover037.Png Was Killed\n",
      "Cover020.Png Was Killed\n",
      "Cover024.Png Was Killed\n",
      "Cover012.Png Was Killed\n",
      "Cover007.Png Was Killed\n",
      "Cover039.Png Was Killed\n",
      "Cover022.Png Was Killed\n",
      "Cover029.Png Was Killed\n",
      "Cover035.Png Was Killed\n",
      "Cover009.Png Was Killed\n",
      "Cover036.Png Was Killed\n",
      "Cover043.Png Was Killed\n",
      "Cover049.Png Was Killed\n",
      "Cover002.Png Was Killed\n",
      "Cover021.Png Was Killed\n",
      "Cover042.Png Was Killed\n",
      "Cover047.Png Was Killed\n",
      "Cover019.Png Was Killed\n",
      "Cover010.Png Was Killed\n",
      "Cover040.Png Was Killed\n",
      "Cover006.Png Was Killed\n",
      "1- enter [thanos] if you want to play\n",
      "2- enter [close] if you want to end\n",
      "enter your choice : thanos\n",
      "Cover023.Png Was Killed\n",
      "Cover028.Png Was Killed\n",
      "Cover014.Png Was Killed\n",
      "Cover025.Png Was Killed\n",
      "Cover032.Png Was Killed\n",
      "Cover044.Png Was Killed\n",
      "Cover005.Png Was Killed\n",
      "Cover041.Png Was Killed\n",
      "Cover004.Png Was Killed\n",
      "Cover048.Png Was Killed\n",
      "Cover018.Png Was Killed\n",
      "Cover030.Png Was Killed\n",
      "1- enter [thanos] if you want to play\n",
      "2- enter [close] if you want to end\n",
      "enter your choice : thanos\n",
      "Cover031.Png Was Killed\n",
      "Cover011.Png Was Killed\n",
      "Cover016.Png Was Killed\n",
      "Cover015.Png Was Killed\n",
      "Cover008.Png Was Killed\n",
      "Cover045.Png Was Killed\n",
      "1- enter [thanos] if you want to play\n",
      "2- enter [close] if you want to end\n",
      "enter your choice : thanos\n",
      "Cover013.Png Was Killed\n",
      "Cover027.Png Was Killed\n",
      "Cover001.Png Was Killed\n",
      "1- enter [thanos] if you want to play\n",
      "2- enter [close] if you want to end\n",
      "enter your choice : thanos\n",
      "Cover026.Png Was Killed\n",
      "Cover017.Png Was Killed\n",
      "1- enter [thanos] if you want to play\n",
      "2- enter [close] if you want to end\n",
      "enter your choice : thanos\n",
      "Cover050.Png Was Killed\n",
      "1- enter [thanos] if you want to play\n",
      "2- enter [close] if you want to end\n",
      "enter your choice : thanos\n",
      "Cover003.Png Was Killed\n",
      "1- enter [thanos] if you want to play\n",
      "2- enter [close] if you want to end\n",
      "enter your choice : thanos\n",
      "Opps there are no people kill !!\n"
     ]
    },
    {
     "name": "stderr",
     "output_type": "stream",
     "text": [
      "100%|██████████████████████████████████████████████████████████████████████████████████| 50/50 [00:50<00:00,  1.01s/it]\n"
     ]
    },
    {
     "name": "stdout",
     "output_type": "stream",
     "text": [
      "All images Restored\n",
      "1- enter [thanos] if you want to play\n",
      "2- enter [close] if you want to end\n",
      "enter your choice : t\n",
      "Invalid Choice!!\n",
      "1- enter [thanos] if you want to play\n",
      "2- enter [close] if you want to end\n",
      "enter your choice : close\n"
     ]
    }
   ],
   "source": [
    "while True:\n",
    "    print('1- enter [thanos] if you want to play')\n",
    "    print('2- enter [close] if you want to end')\n",
    "    choice = input('enter your choice : ').lower()\n",
    "    if choice=='thanos':\n",
    "        if len(os.listdir('./universe'))==0:\n",
    "            print('Opps there are no people kill !!')\n",
    "            Backup('./backup','./universe')\n",
    "        else:\n",
    "            Thanos('.')     \n",
    "    elif choice=='close':\n",
    "        break\n",
    "    else:   \n",
    "        print('invalid choice!!'.title())"
   ]
  },
  {
   "cell_type": "code",
   "execution_count": null,
   "metadata": {},
   "outputs": [],
   "source": []
  }
 ],
 "metadata": {
  "kernelspec": {
   "display_name": "Python 3 (ipykernel)",
   "language": "python",
   "name": "python3"
  },
  "language_info": {
   "codemirror_mode": {
    "name": "ipython",
    "version": 3
   },
   "file_extension": ".py",
   "mimetype": "text/x-python",
   "name": "python",
   "nbconvert_exporter": "python",
   "pygments_lexer": "ipython3",
   "version": "3.11.4"
  }
 },
 "nbformat": 4,
 "nbformat_minor": 2
}
